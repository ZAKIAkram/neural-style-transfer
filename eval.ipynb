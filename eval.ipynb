{
  "nbformat": 4,
  "nbformat_minor": 0,
  "metadata": {
    "colab": {
      "provenance": [],
      "gpuType": "T4"
    },
    "kernelspec": {
      "name": "python3",
      "display_name": "Python 3"
    },
    "language_info": {
      "name": "python"
    },
    "accelerator": "GPU",
    "gpuClass": "standard"
  },
  "cells": [
    {
      "cell_type": "code",
      "source": [
        "import tensorflow as tf\n",
        "from keras.applications.vgg19 import VGG19\n",
        "from keras.applications.vgg19 import preprocess_input\n",
        "import numpy as np\n",
        "import os\n",
        "from PIL import Image\n",
        "import PIL\n",
        "\n",
        "vgg = VGG19(include_top=False, weights='imagenet')\n",
        "max_image_size = 512\n",
        "\n",
        "#Last conv layer because it contains most of the information about the content\n",
        "content_layers = ['block5_conv2'] \n",
        "\n",
        "#Getting information about style, we will use these later \n",
        "style_layers = ['block1_conv1',\n",
        "                'block2_conv1',\n",
        "                'block3_conv1', \n",
        "                'block4_conv1', \n",
        "                'block5_conv1']"
      ],
      "metadata": {
        "id": "ifeHYotEf-eS"
      },
      "execution_count": null,
      "outputs": []
    },
    {
      "cell_type": "code",
      "source": [
        "def load_image(image_path):\n",
        "  image_string = tf.io.read_file(image_path)\n",
        "  image = tf.image.decode_jpeg(image_string, channels=3)\n",
        "  image = tf.image.resize(image, [512, 512])\n",
        "  return image"
      ],
      "metadata": {
        "id": "ClHUEVPEgHrm"
      },
      "execution_count": null,
      "outputs": []
    },
    {
      "cell_type": "code",
      "source": [
        "def get_style_extractor():\n",
        "    style_output_tensors = [vgg.get_layer(layer).output for layer in style_layers]\n",
        "    style_model = tf.keras.models.Model(inputs=vgg.input, outputs=style_output_tensors)\n",
        "    return style_model\n",
        "\n",
        "def get_content_extractor():\n",
        "    content_output_tensors = [vgg.get_layer(layer).output for layer in content_layers]\n",
        "    content_model = tf.keras.models.Model(inputs=vgg.input, outputs=content_output_tensors)\n",
        "    return content_model"
      ],
      "metadata": {
        "id": "bEz3CpS_gVxs"
      },
      "execution_count": null,
      "outputs": []
    },
    {
      "cell_type": "code",
      "source": [
        "def gram_matrix(input_tensor):\n",
        "  result = tf.linalg.einsum('bijc,bijd->bcd', input_tensor, input_tensor)\n",
        "  input_shape = tf.shape(input_tensor)\n",
        "  num_locations = tf.cast(input_shape[1]*input_shape[2], tf.float32)\n",
        "  return result/(num_locations)"
      ],
      "metadata": {
        "id": "Yb-1y7w7gat1"
      },
      "execution_count": null,
      "outputs": []
    },
    {
      "cell_type": "code",
      "source": [
        "def eqm(tensors1, tensors2):\n",
        "  \"\"\"Calculate the squared mean error\"\"\"\n",
        "  mean = 0\n",
        "  for i in range(len(tensors1)):\n",
        "    diff = tf.subtract(tensors1[i], tensors2[i])\n",
        "    square_diff = tf.square(diff)\n",
        "    mean += tf.reduce_mean(square_diff)\n",
        "  return (1/len(tensors1))*mean"
      ],
      "metadata": {
        "id": "2_y-xRpygKPq"
      },
      "execution_count": null,
      "outputs": []
    },
    {
      "cell_type": "code",
      "source": [
        "def eval(output_path, content_path, style_path):\n",
        "  \n",
        "  content_image = load_image(content_path)\n",
        "  result_image = load_image(output_path)\n",
        "  style_image = load_image(style_path)\n",
        "\n",
        "  style_image = style_image[tf.newaxis, :]\n",
        "  content_image = content_image[tf.newaxis, :]\n",
        "  result_image = result_image[tf.newaxis, :]\n",
        "\n",
        "  style_extractor = get_style_extractor()\n",
        "  input_style = style_extractor(preprocess_input(style_image * 255))\n",
        "  input_style = [gram_matrix(input) for input in input_style]\n",
        "  result_style = style_extractor(preprocess_input(result_image * 255))\n",
        "  result_style = [gram_matrix(result) for result in result_style]\n",
        "\n",
        "  content_extractor = get_content_extractor()\n",
        "  input_content = content_extractor(preprocess_input(content_image * 255))\n",
        "  result_content = content_extractor(preprocess_input(result_image * 255))\n",
        "\n",
        "  content_diff = eqm(input_content, result_content)\n",
        "  style_diff = eqm(input_style, result_style)\n",
        "\n",
        "  return (content_diff.numpy(), style_diff.numpy())\n"
      ],
      "metadata": {
        "id": "3DYpHt2KrMqr"
      },
      "execution_count": null,
      "outputs": []
    },
    {
      "cell_type": "code",
      "source": [
        "def main():\n",
        "  # content_image = load_image(\"./eval_inputs_content/01grenoble.jpeg\")\n",
        "  # style_image = load_image(\"./eval_inputs_style/01picasso.jpeg\")\n",
        "  # result_image = load_image(\"./eval_outputs/eval_outputs_diy/01grenoble.jpeg--01picasso.jpeg\")\n",
        "\n",
        "  OUTPUT_FOLDER_VGG = \"./eval_outputs/eval_outputs_vgg/\"\n",
        "  OUTPUT_FOLDER_VAE = \"./eval_outputs/eval_outputs_vae/\"\n",
        "  OUTPUT_FOLDER_DIY = \"./eval_outputs/eval_outputs_diy/\"\n",
        "  CONTENT_INPUT_FOLDER = \"./eval_inputs_content/\"\n",
        "  STYLE_INPUT_FOLDER = \"./eval_inputs_style/\"\n",
        "\n",
        "  content_paths = []\n",
        "  for dirpath, dirnames, filenames in os.walk(CONTENT_INPUT_FOLDER):\n",
        "      for file in filenames:\n",
        "          content_paths.append(os.path.join(dirpath, file))\n",
        "  style_paths = []\n",
        "  for dirpath, dirnames, filenames in os.walk(STYLE_INPUT_FOLDER):\n",
        "      for file in filenames:\n",
        "          style_paths.append(os.path.join(dirpath, file))\n",
        "  output_paths_vgg = []\n",
        "  for dirpath, dirnames, filenames in os.walk(OUTPUT_FOLDER_VGG):\n",
        "      for file in filenames:\n",
        "          output_paths_vgg.append(os.path.join(dirpath, file))\n",
        "  output_paths_vae = []\n",
        "  for dirpath, dirnames, filenames in os.walk(OUTPUT_FOLDER_VAE):\n",
        "      for file in filenames:\n",
        "          output_paths_vae.append(os.path.join(dirpath, file))\n",
        "  output_paths_diy = []\n",
        "  for dirpath, dirnames, filenames in os.walk(OUTPUT_FOLDER_DIY):\n",
        "      for file in filenames:\n",
        "          output_paths_diy.append(os.path.join(dirpath, file))\n",
        "\n",
        "  content_paths = sorted(content_paths)\n",
        "  style_paths = sorted(style_paths)\n",
        "  output_paths_vgg = sorted(output_paths_vgg)\n",
        "  output_paths_vae = sorted(output_paths_vae)\n",
        "  output_paths_diy = sorted(output_paths_diy)\n",
        "\n",
        "  vgg_results = []\n",
        "  vae_results = []\n",
        "  diy_results = []\n",
        "\n",
        "  for i in range(len(output_paths_vgg)):\n",
        "    vgg_results.append(eval(output_paths_vgg[i], content_paths[i], style_paths[i]))\n",
        "\n",
        "  for i in range(len(output_paths_vae)):\n",
        "    vae_results.append(eval(output_paths_vae[i], content_paths[i], style_paths[i]))\n",
        "\n",
        "  for i in range(len(output_paths_diy)):\n",
        "    diy_results.append(eval(output_paths_diy[i], content_paths[i], style_paths[i]))\n",
        "  print(\"Vgg :\", vgg_results)\n",
        "  print(\"Vae :\", vae_results)\n",
        "  print(\"Diy :\", diy_results)\n",
        "\n",
        "  vgg_content_mean = 0\n",
        "  vgg_style_mean = 0\n",
        "  for res in vgg_results:\n",
        "    vgg_content_mean += res[0]\n",
        "    vgg_style_mean += res[1]\n",
        "  vgg_content_mean *= 1/len(vgg_results)\n",
        "  vgg_style_mean *= 1/len(vgg_results)\n",
        "\n",
        "  vae_content_mean = 0\n",
        "  vae_style_mean = 0\n",
        "  for res in vae_results:\n",
        "    vae_content_mean += res[0]\n",
        "    vae_style_mean += res[1]\n",
        "  vae_content_mean *= 1/len(vae_results)\n",
        "  vae_style_mean *= 1/len(vae_results)\n",
        "\n",
        "  diy_content_mean = 0\n",
        "  diy_style_mean = 0\n",
        "  for res in diy_results:\n",
        "    diy_content_mean += res[0]\n",
        "    diy_style_mean += res[1]\n",
        "  diy_content_mean *= 1/len(diy_results)\n",
        "  diy_style_mean *= 1/len(diy_results)\n",
        "\n",
        "  print(vgg_content_mean)\n",
        "  print(vae_content_mean)\n",
        "  print(diy_content_mean)\n",
        "  \n",
        "  print(vgg_style_mean)\n",
        "  print(vae_style_mean)\n",
        "  print(diy_style_mean)\n"
      ],
      "metadata": {
        "id": "bo_9VUNDgfyR"
      },
      "execution_count": null,
      "outputs": []
    },
    {
      "cell_type": "code",
      "source": [
        "if __name__ == \"__main__\":\n",
        "  main()"
      ],
      "metadata": {
        "colab": {
          "base_uri": "https://localhost:8080/"
        },
        "id": "n6DxsQJEwUYF",
        "outputId": "db8d7edc-d18d-4563-ac90-dbae4b76f3c6"
      },
      "execution_count": null,
      "outputs": [
        {
          "output_type": "stream",
          "name": "stdout",
          "text": [
            "Vgg : [(353050600.0, 2.01028e+20), (363103040.0, 3.092879e+20), (526547000.0, 5.5005963e+19), (172937360.0, 9.132834e+19)]\n",
            "Vae : [(286272640.0, 1.40804365e+20), (296854460.0, 7.4922157e+18), (310602180.0, 1.2246313e+19), (169437280.0, 4.3806857e+19)]\n",
            "Diy : [(350091300.0, 2.8596107e+20), (380271300.0, 6.4661804e+20), (309556380.0, 5.326861e+20), (212256740.0, 1.4098715e+20)]\n",
            "353909500.0\n",
            "265791640.0\n",
            "313043928.0\n",
            "1.641625527987701e+20\n",
            "5.108743765568468e+19\n",
            "4.015630935376066e+20\n"
          ]
        }
      ]
    },
    {
      "cell_type": "code",
      "source": [
        "import matplotlib.pyplot as plt\n",
        "import numpy as np\n",
        "\n",
        "Vgg = [(353050600.0, 2.01028e+20), (363103040.0, 3.092879e+20), (526547000.0, 5.5005963e+19), (172937360.0, 9.132834e+19)]\n",
        "Vae = [(286272640.0, 1.40804365e+20), (296854460.0, 7.4922157e+18), (310602180.0, 1.2246313e+19), (169437280.0, 4.3806857e+19)]\n",
        "Diy = [(350091300.0, 2.8596107e+20), (380271300.0, 6.4661804e+20), (309556380.0, 5.326861e+20), (212256740.0, 1.4098715e+20)]\n",
        "\n",
        "# Unpack the tuples into separate lists\n",
        "Vgg_content, Vgg_style = zip(*Vgg)\n",
        "Vae_content, Vae_style = zip(*Vae)\n",
        "Diy_content, Diy_style = zip(*Diy)\n",
        "\n",
        "labels = ['grenoble', 'annecy', 'boujloud', 'tesla']\n",
        "\n",
        "x = np.arange(len(labels))  # the label locations\n",
        "width = 0.2  # the width of the bars\n",
        "\n",
        "fig, ax = plt.subplots(2, 1, figsize=(10,10))\n",
        "\n",
        "# Add some text for labels, title and custom x-axis tick labels, etc.\n",
        "ax[0].set_ylabel('Content Loss')\n",
        "ax[0].set_title('Content and Style Losses')\n",
        "ax[0].set_xticks(x)\n",
        "ax[0].set_xticklabels(labels)\n",
        "ax[0].bar(x - width, Vgg_content, width, label='Vgg')\n",
        "ax[0].bar(x, Vae_content, width, label='AdaIn')\n",
        "ax[0].bar(x + width, Diy_content, width, label='Diy')\n",
        "\n",
        "ax[1].set_ylabel('Style Loss')\n",
        "ax[1].set_xticks(x)\n",
        "ax[1].set_xticklabels(labels)\n",
        "ax[1].bar(x - width, Vgg_style, width, label='Vgg')\n",
        "ax[1].bar(x, Vae_style, width, label='AdaIn')\n",
        "ax[1].bar(x + width, Diy_style, width, label='Diy')\n",
        "\n",
        "# Add a legend\n",
        "ax[0].legend()\n",
        "ax[1].legend()\n",
        "\n",
        "fig.tight_layout()\n",
        "\n",
        "plt.show()\n",
        "plt.savefig(\"results.png\")\n"
      ],
      "metadata": {
        "colab": {
          "base_uri": "https://localhost:8080/",
          "height": 1000
        },
        "id": "axJT18gyZ1Jm",
        "outputId": "7f4e4d64-0b7e-4d2d-bbc4-a646d2da28ac"
      },
      "execution_count": null,
      "outputs": [
        {
          "output_type": "display_data",
          "data": {
            "text/plain": [
              "<Figure size 1000x1000 with 2 Axes>"
            ],
            "image/png": "[encoded data removed]"
          },
          "metadata": {}
        },
        {
          "output_type": "display_data",
          "data": {
            "text/plain": [
              "<Figure size 640x480 with 0 Axes>"
            ]
          },
          "metadata": {}
        }
      ]
    }
  ]
}